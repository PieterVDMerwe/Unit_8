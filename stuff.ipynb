{
 "cells": [
  {
   "cell_type": "markdown",
   "metadata": {
    "slideshow": {
     "slide_type": "slide"
    }
   },
   "source": [
    "# Cuve fitting\n",
    "Curve fitting or Data fitting is the method of finding an expression that describes a given data set.\n",
    "In general, data fitting, or curve fitting can be devided into *local* and *global* fits, with a *global* fitting refering to a single function in the independant variable that fully discribes the data that is being fit. A *local* fitting refers to a function that only locally describes the data set being fit in a few points. \n",
    "\n",
    "<img src=\"https://ipython-books.github.io/pages/chapter09_numoptim/03_curvefitting_files/03_curvefitting_14_0.png\" width=\"400\" height=\"400\" />\n"
   ]
  },
  {
   "cell_type": "markdown",
   "metadata": {
    "slideshow": {
     "slide_type": "slide"
    }
   },
   "source": [
    "# Interpolation: Lagrange Interpolation\n",
    "One method of finding a expression for a given data set is the Lagrange interpolation technique. This method involves approximating a given data set locally by an $n$-*th* order polynomial $f(x)$, with $$n=N-1,$$ where $N$ is the number of data points in the given data set.\n",
    "\n",
    "We have that:\n",
    "\n",
    "$$\n",
    "\\begin{equation}\n",
    "f(x)=y_{1}\\lambda_{1}+y_{2}\\lambda_{2}+...+y_{N}\\lambda_{N},\n",
    "\\label{Lag}\n",
    "\\tag{1}\n",
    "\\end{equation}\n",
    "$$\n",
    "\n",
    "with:\n",
    "\n",
    "$$\n",
    "\\begin{equation}\n",
    "\\lambda_{i}=\\Pi^{n}_{j=1, j\\neq i}\\frac{x-x_{j}}{x_{i}-x_{j}}.\n",
    "\\label{Lam}\n",
    "\\tag{2}\n",
    "\\end{equation}\n",
    "$$\n",
    "\n"
   ]
  },
  {
   "cell_type": "markdown",
   "metadata": {
    "slideshow": {
     "slide_type": "subslide"
    }
   },
   "source": [
    "One short comming of interpiolation techniques such as Lagrange Interpolation is that though the technique produces an expression that acurately fits all the data points in the given data set when applied to large data sets, the resulting expression can be very complex and oscillate between the various data points that can produce unphysical descriptions of the data, as can be seen in the left most graph in the following image:\n",
    "\n",
    "<img src=\"https://github.com/PieterVDMerwe/Computational-rescources/blob/master/Interpolation.png?raw=true\" width=\"400\" height=\"400\" />\n",
    "\n",
    "This problem is further amplified if there are errors on the data in the data set."
   ]
  },
  {
   "cell_type": "markdown",
   "metadata": {
    "slideshow": {
     "slide_type": "slide"
    }
   },
   "source": [
    "# Curve fitting:Cubic Spline\n",
    "One possible solution to the the previously stated short comming of the interpolation techniques, is to break up the data set into small segments that can be interpolated locally (with each $i$-th segment containing four of the points in the data set). \n",
    "\n",
    "Let $f(x)$ be the exact expression that describes the data set and $f_{i}(x)$ the approximate values given in th data set. The Cubic Splines method is then described by the following equations: \n",
    "\n",
    "$$\n",
    "\\begin{equation}\n",
    "f(x) \\approx f_{i}(x),\n",
    "\\label{Spline1}\n",
    "\\tag{3}\n",
    "\\end{equation}\n",
    "$$\n",
    "\n",
    "on the interval $x_{i}\\leq x \\leq x_{i+1}$, where this interval represents every four data points in the data set and \n",
    "\n",
    "$$\n",
    "\\begin{equation}\n",
    "f_{i}(x)=y_{i}+\\sum^{3}_{n=1}\\frac{f^{(n)}_{i}(x-x_{i})^{n}}{n!}.\n",
    "\\label{Spline2}\n",
    "\\tag{4}\n",
    "\\end{equation}\n",
    "$$\n",
    "\n",
    "In equation $\\eqref{Spline2}$ $y_{i}=f(x_{i})$ and $f^{(n)}=\\frac{d^{n}f}{dx^{n}}$. To ensure that there are no discontinuity in the expression we require that :\n",
    "$$\n",
    "\\begin{equation}\n",
    "f_{i}(x_{i+1})=f_{i+1}(x_{i+1}),\\ \\ \\ \\ \\ i=[1,N-1].\n",
    "\\label{Spline3}\n",
    "\\tag{5}\n",
    "\\end{equation}\n",
    "$$\n"
   ]
  },
  {
   "cell_type": "markdown",
   "metadata": {
    "slideshow": {
     "slide_type": "subslide"
    }
   },
   "source": [
    "To further improve upon this, we can require that the first, second and third derivatives of consecutive segments be equal on the boundry between segments:\n",
    "\n",
    "$$\n",
    "\\begin{equation}\n",
    "f^{(n)}_{i}(x_{i+1})=f^{(n)}_{i+1}(x_{i+1}),\\ \\ \\ \\ n=1,2,3.\n",
    "\\label{Spline4}\n",
    "\\tag{6}\n",
    "\\end{equation}\n",
    "$$\n",
    "\n",
    "The derivative to each order is calculated numerically using the finite difference method from the derivatives of on order down:\n",
    "\n",
    "$$\n",
    "\\begin{equation}\n",
    "f^{(n+1)}_{i}=\\frac{f^{(n)}_{i+1}-f^{(n)}_{i}}{x_{i+1}-x_{i}},\\ \\ \\ n=0,1,2.\n",
    "\\label{Spline5}\n",
    "\\tag{7}\n",
    "\\end{equation}\n",
    "$$\n",
    "\n",
    "At the boundaries of the data set, we can use the forward and backward methods to calculate the derivatives in at each boundary, or set the derivatives equal to zero, which is known as a natural spline or clamped spline.\n",
    "\n",
    "Solving these sets of equations for each segment, we can get a piecewise expression for the data set."
   ]
  },
  {
   "cell_type": "code",
   "execution_count": 5,
   "metadata": {
    "slideshow": {
     "slide_type": "skip"
    }
   },
   "outputs": [
    {
     "data": {
      "image/png": "[encoded data removed]",
      "text/plain": [
       "<Figure size 432x288 with 1 Axes>"
      ]
     },
     "metadata": {},
     "output_type": "display_data"
    }
   ],
   "source": [
    "import matplotlib.pyplot as plt\n",
    "import numpy as np\n",
    "import random\n",
    "from scipy import interpolate as intr\n",
    "\n",
    "def cubicSpline(x,y):\n",
    "    h = [];\n",
    "    for i in range(len(x)-1):\n",
    "        h.append(x[i+1]-x[i]);\n",
    "    alpha = [];\n",
    "    for i in range(1,len(x)-1):\n",
    "        alpha.append((3.0/h[i])*(y[i+1]-y[i])-(3.0/h[i-1])*(y[i]-y[i-1]));\n",
    "    l=[1.0];\n",
    "    mu=[0.0];\n",
    "    z=[0.0];\n",
    "    for i in range(1,len(x)-1):\n",
    "        l.append(2.0*(x[i+1]-x[i-1])-h[i-1]*mu[i-1]);\n",
    "        mu.append(h[i]/l[i]);\n",
    "        z.append((alpha[i-1]-h[i-1]*z[i-1])/l[i]);\n",
    "    l.append(1.0);\n",
    "    z.append(0.0);\n",
    "    c = np.zeros(len(x));\n",
    "    b = np.zeros(len(x));\n",
    "    d = np.zeros(len(x));\n",
    "    for i in range(1,len(x)):\n",
    "        j = len(x)-1-i;\n",
    "        c[j]=z[j]-mu[j]*c[j+1];\n",
    "        b[j]=(y[j+1]-y[j])/h[j] - h[j]*(c[j+1]+2.0*c[j])/3.0;\n",
    "        d[j]=(c[j+1]-c[j])/(3.0*h[j]);\n",
    "    return y, b, c, d;\n",
    "\n",
    "def genFunc(xval,x,y,b,c,d):\n",
    "    i = 0;\n",
    "    while (xval > x[i])and(i<len(x)-1):\n",
    "        i = i+1;\n",
    "    return y[i]+b[i]*(xval-x[i])+c[i]*(xval-x[i])**(2.0)+d[i]*(xval-x[i])**(3.0);\n",
    "\n",
    "def f(x):\n",
    "    return 1.0*np.exp(-1.0*(x-3.3)**2)+0.0001*np.asanyarray(random.sample(range(0,1000),len(x)));\n",
    "def scif(x,xp,yp):\n",
    "    tck = intr.splrep(xp,yp);\n",
    "    return intr.splev(x, tck);\n",
    "    \n",
    "\n",
    "x = np.arange(0.0,7.0,0.1);\n",
    "y = f(x);\n",
    "\n",
    "a,b,c,d = cubicSpline(x,y);\n",
    "\n",
    "xx = np.arange(1.0,5.0,0.1);\n",
    "yy = [];\n",
    "yyy = [];\n",
    "for i in range(len(xx)):\n",
    "    yy.append(genFunc(xx[i],x,a,b,c,d));\n",
    "    yyy.append(scif(xx[i],x,y));\n",
    "\n",
    "plt.plot(xx,yy,label='simple');\n",
    "plt.plot(xx,yyy,label='scipy');\n",
    "plt.scatter(x,y,label='original values+noise');\n",
    "plt.legend(ncol=1);\n",
    "plt.xlabel('x');\n",
    "plt.ylabel('y');\n",
    "plt.savefig('cubic_spline.png');\n",
    "plt.show();\n"
   ]
  },
  {
   "cell_type": "markdown",
   "metadata": {
    "slideshow": {
     "slide_type": "slide"
    }
   },
   "source": [
    "# Example\n",
    "In the following figure we have used a natural simple cubic spline program that generates a piecewise expression for a given data set and then uses it to fit arbitrary x values to. The program is, however, very sensitive to noise, as can be clearly seen. \n",
    "\n",
    "The second line shows the scipy cubic spline fiting method, which fits the given data quite well and is much less sensitive to noise.\n",
    "\n",
    "<img src=\"https://github.com/PieterVDMerwe/Computational-rescources/blob/master/cubic_spline.png?raw=true\" width=\"400\" height=\"400\" />"
   ]
  },
  {
   "cell_type": "code",
   "execution_count": null,
   "metadata": {},
   "outputs": [],
   "source": []
  }
 ],
 "metadata": {
  "celltoolbar": "Slideshow",
  "kernelspec": {
   "display_name": "Python 2",
   "language": "python",
   "name": "python2"
  },
  "language_info": {
   "codemirror_mode": {
    "name": "ipython",
    "version": 2
   },
   "file_extension": ".py",
   "mimetype": "text/x-python",
   "name": "python",
   "nbconvert_exporter": "python",
   "pygments_lexer": "ipython2",
   "version": "2.7.15"
  }
 },
 "nbformat": 4,
 "nbformat_minor": 2
}
